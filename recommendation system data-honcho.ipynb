{
 "cells": [
  {
   "cell_type": "markdown",
   "id": "acffc087",
   "metadata": {},
   "source": [
    "### Importing the necessary Libraries "
   ]
  },
  {
   "cell_type": "code",
   "execution_count": 1,
   "id": "804d48be",
   "metadata": {},
   "outputs": [],
   "source": [
    "import numpy as np\n",
    "import pandas as pd\n",
    "import matplotlib.pyplot as plt\n",
    "%matplotlib inline\n",
    "import seaborn as sns \n",
    "from IPython import get_ipython\n",
    "import warnings \n",
    "warnings.filterwarnings('ignore')\n",
    "\n",
    "import re\n",
    "import ast\n",
    "from sklearn.feature_extraction.text import CountVectorizer\n",
    "from sklearn.metrics.pairwise import cosine_similarity\n",
    "\n",
    "import pickle"
   ]
  },
  {
   "cell_type": "markdown",
   "id": "5cac8465",
   "metadata": {},
   "source": [
    "### Reading and inspecting the dataset "
   ]
  },
  {
   "cell_type": "code",
   "execution_count": 51,
   "id": "c7d64d9a",
   "metadata": {},
   "outputs": [
    {
     "data": {
      "text/html": [
       "<div>\n",
       "<style scoped>\n",
       "    .dataframe tbody tr th:only-of-type {\n",
       "        vertical-align: middle;\n",
       "    }\n",
       "\n",
       "    .dataframe tbody tr th {\n",
       "        vertical-align: top;\n",
       "    }\n",
       "\n",
       "    .dataframe thead th {\n",
       "        text-align: right;\n",
       "    }\n",
       "</style>\n",
       "<table border=\"1\" class=\"dataframe\">\n",
       "  <thead>\n",
       "    <tr style=\"text-align: right;\">\n",
       "      <th></th>\n",
       "      <th>userid</th>\n",
       "      <th>movieid</th>\n",
       "      <th>title</th>\n",
       "      <th>genres</th>\n",
       "      <th>original_language</th>\n",
       "      <th>overview</th>\n",
       "      <th>popularity</th>\n",
       "      <th>production_companies</th>\n",
       "      <th>release_date</th>\n",
       "      <th>budget</th>\n",
       "      <th>...</th>\n",
       "      <th>runtime</th>\n",
       "      <th>status</th>\n",
       "      <th>tagline</th>\n",
       "      <th>vote_average</th>\n",
       "      <th>vote_count</th>\n",
       "      <th>credits</th>\n",
       "      <th>keywords</th>\n",
       "      <th>poster_path</th>\n",
       "      <th>backdrop_path</th>\n",
       "      <th>recommendations</th>\n",
       "    </tr>\n",
       "  </thead>\n",
       "  <tbody>\n",
       "    <tr>\n",
       "      <th>0</th>\n",
       "      <td>1</td>\n",
       "      <td>615656</td>\n",
       "      <td>Meg 2: The Trench</td>\n",
       "      <td>Action-Science Fiction-Horror</td>\n",
       "      <td>en</td>\n",
       "      <td>An exploratory dive into the deepest depths of...</td>\n",
       "      <td>8763.998</td>\n",
       "      <td>Apelles Entertainment-Warner Bros. Pictures-di...</td>\n",
       "      <td>02/08/2023</td>\n",
       "      <td>129000000</td>\n",
       "      <td>...</td>\n",
       "      <td>116</td>\n",
       "      <td>Released</td>\n",
       "      <td>Back for seconds.</td>\n",
       "      <td>7.079</td>\n",
       "      <td>1365</td>\n",
       "      <td>Jason Statham-Wu Jing-Shuya Sophia Cai-Sergio ...</td>\n",
       "      <td>based on novel or book-sequel-kaiju</td>\n",
       "      <td>/4m1Au3YkjqsxF8iwQy0fPYSxE0h.jpg</td>\n",
       "      <td>/qlxy8yo5bcgUw2KAmmojUKp4rHd.jpg</td>\n",
       "      <td>1006462-298618-569094-1061181-346698-1076487-6...</td>\n",
       "    </tr>\n",
       "    <tr>\n",
       "      <th>1</th>\n",
       "      <td>2</td>\n",
       "      <td>758323</td>\n",
       "      <td>The Pope's Exorcist</td>\n",
       "      <td>Horror-Mystery-Thriller</td>\n",
       "      <td>en</td>\n",
       "      <td>Father Gabriele Amorth Chief Exorcist of the V...</td>\n",
       "      <td>5953.227</td>\n",
       "      <td>Screen Gems-2.0 Entertainment-Jesus &amp; Mary-Wor...</td>\n",
       "      <td>05/04/2023</td>\n",
       "      <td>18000000</td>\n",
       "      <td>...</td>\n",
       "      <td>103</td>\n",
       "      <td>Released</td>\n",
       "      <td>Inspired by the actual files of Father Gabriel...</td>\n",
       "      <td>7.433</td>\n",
       "      <td>545</td>\n",
       "      <td>Russell Crowe-Daniel Zovatto-Alex Essoe-Franco...</td>\n",
       "      <td>spain-rome italy-vatican-pope-pig-possession-c...</td>\n",
       "      <td>/9JBEPLTPSm0d1mbEcLxULjJq9Eh.jpg</td>\n",
       "      <td>/hiHGRbyTcbZoLsYYkO4QiCLYe34.jpg</td>\n",
       "      <td>713704-296271-502356-1076605-1084225-1008005-9...</td>\n",
       "    </tr>\n",
       "    <tr>\n",
       "      <th>2</th>\n",
       "      <td>3</td>\n",
       "      <td>667538</td>\n",
       "      <td>Transformers: Rise of the Beasts</td>\n",
       "      <td>Action-Adventure-Science Fiction</td>\n",
       "      <td>en</td>\n",
       "      <td>When a new threat capable of destroying the en...</td>\n",
       "      <td>5409.104</td>\n",
       "      <td>Skydance-Paramount-di Bonaventura Pictures-Bay...</td>\n",
       "      <td>06/06/2023</td>\n",
       "      <td>200000000</td>\n",
       "      <td>...</td>\n",
       "      <td>127</td>\n",
       "      <td>Released</td>\n",
       "      <td>Unite or fall.</td>\n",
       "      <td>7.340</td>\n",
       "      <td>1007</td>\n",
       "      <td>Anthony Ramos-Dominique Fishback-Luna Lauren V...</td>\n",
       "      <td>peru-alien-end of the world-based on cartoon-b...</td>\n",
       "      <td>/gPbM0MK8CP8A174rmUwGsADNYKD.jpg</td>\n",
       "      <td>/woJbg7ZqidhpvqFGGMRhWQNoxwa.jpg</td>\n",
       "      <td>496450-569094-298618-385687-877100-598331-4628...</td>\n",
       "    </tr>\n",
       "    <tr>\n",
       "      <th>3</th>\n",
       "      <td>4</td>\n",
       "      <td>640146</td>\n",
       "      <td>Ant-Man and the Wasp: Quantumania</td>\n",
       "      <td>Action-Adventure-Science Fiction</td>\n",
       "      <td>en</td>\n",
       "      <td>Super-Hero partners Scott Lang and Hope van Dy...</td>\n",
       "      <td>4425.387</td>\n",
       "      <td>Marvel Studios-Kevin Feige Productions</td>\n",
       "      <td>15/02/2023</td>\n",
       "      <td>200000000</td>\n",
       "      <td>...</td>\n",
       "      <td>125</td>\n",
       "      <td>Released</td>\n",
       "      <td>Witness the beginning of a new dynasty.</td>\n",
       "      <td>6.507</td>\n",
       "      <td>2811</td>\n",
       "      <td>Paul Rudd-Evangeline Lilly-Jonathan Majors-Kat...</td>\n",
       "      <td>hero-ant-sequel-superhero-based on comic-famil...</td>\n",
       "      <td>/qnqGbB22YJ7dSs4o6M7exTpNxPz.jpg</td>\n",
       "      <td>/m8JTwHFwX7I7JY5fPe4SjqejWag.jpg</td>\n",
       "      <td>823999-676841-868759-734048-267805-965839-1033...</td>\n",
       "    </tr>\n",
       "    <tr>\n",
       "      <th>4</th>\n",
       "      <td>5</td>\n",
       "      <td>677179</td>\n",
       "      <td>Creed III</td>\n",
       "      <td>Drama-Action</td>\n",
       "      <td>en</td>\n",
       "      <td>After dominating the boxing world Adonis Creed...</td>\n",
       "      <td>3994.342</td>\n",
       "      <td>Metro-Goldwyn-Mayer-Proximity Media-Balboa Pro...</td>\n",
       "      <td>01/03/2023</td>\n",
       "      <td>75000000</td>\n",
       "      <td>...</td>\n",
       "      <td>116</td>\n",
       "      <td>Released</td>\n",
       "      <td>You can't run from your past.</td>\n",
       "      <td>7.262</td>\n",
       "      <td>1129</td>\n",
       "      <td>Michael B. Jordan-Tessa Thompson-Jonathan Majo...</td>\n",
       "      <td>philadelphia pennsylvania-husband wife relatio...</td>\n",
       "      <td>/cvsXj3I9Q2iyyIo95AecSd1tad7.jpg</td>\n",
       "      <td>/5i6SjyDbDWqyun8klUuCxrlFbyw.jpg</td>\n",
       "      <td>965839-267805-943822-842942-1035806-823999-107...</td>\n",
       "    </tr>\n",
       "  </tbody>\n",
       "</table>\n",
       "<p>5 rows × 21 columns</p>\n",
       "</div>"
      ],
      "text/plain": [
       "   userid  movieid                              title  \\\n",
       "0       1   615656                  Meg 2: The Trench   \n",
       "1       2   758323                The Pope's Exorcist   \n",
       "2       3   667538   Transformers: Rise of the Beasts   \n",
       "3       4   640146  Ant-Man and the Wasp: Quantumania   \n",
       "4       5   677179                          Creed III   \n",
       "\n",
       "                             genres original_language  \\\n",
       "0     Action-Science Fiction-Horror                en   \n",
       "1           Horror-Mystery-Thriller                en   \n",
       "2  Action-Adventure-Science Fiction                en   \n",
       "3  Action-Adventure-Science Fiction                en   \n",
       "4                      Drama-Action                en   \n",
       "\n",
       "                                            overview  popularity  \\\n",
       "0  An exploratory dive into the deepest depths of...    8763.998   \n",
       "1  Father Gabriele Amorth Chief Exorcist of the V...    5953.227   \n",
       "2  When a new threat capable of destroying the en...    5409.104   \n",
       "3  Super-Hero partners Scott Lang and Hope van Dy...    4425.387   \n",
       "4  After dominating the boxing world Adonis Creed...    3994.342   \n",
       "\n",
       "                                production_companies release_date     budget  \\\n",
       "0  Apelles Entertainment-Warner Bros. Pictures-di...   02/08/2023  129000000   \n",
       "1  Screen Gems-2.0 Entertainment-Jesus & Mary-Wor...   05/04/2023   18000000   \n",
       "2  Skydance-Paramount-di Bonaventura Pictures-Bay...   06/06/2023  200000000   \n",
       "3             Marvel Studios-Kevin Feige Productions   15/02/2023  200000000   \n",
       "4  Metro-Goldwyn-Mayer-Proximity Media-Balboa Pro...   01/03/2023   75000000   \n",
       "\n",
       "   ...  runtime    status                                            tagline  \\\n",
       "0  ...      116  Released                                  Back for seconds.   \n",
       "1  ...      103  Released  Inspired by the actual files of Father Gabriel...   \n",
       "2  ...      127  Released                                     Unite or fall.   \n",
       "3  ...      125  Released            Witness the beginning of a new dynasty.   \n",
       "4  ...      116  Released                      You can't run from your past.   \n",
       "\n",
       "  vote_average  vote_count                                            credits  \\\n",
       "0        7.079        1365  Jason Statham-Wu Jing-Shuya Sophia Cai-Sergio ...   \n",
       "1        7.433         545  Russell Crowe-Daniel Zovatto-Alex Essoe-Franco...   \n",
       "2        7.340        1007  Anthony Ramos-Dominique Fishback-Luna Lauren V...   \n",
       "3        6.507        2811  Paul Rudd-Evangeline Lilly-Jonathan Majors-Kat...   \n",
       "4        7.262        1129  Michael B. Jordan-Tessa Thompson-Jonathan Majo...   \n",
       "\n",
       "                                            keywords  \\\n",
       "0                based on novel or book-sequel-kaiju   \n",
       "1  spain-rome italy-vatican-pope-pig-possession-c...   \n",
       "2  peru-alien-end of the world-based on cartoon-b...   \n",
       "3  hero-ant-sequel-superhero-based on comic-famil...   \n",
       "4  philadelphia pennsylvania-husband wife relatio...   \n",
       "\n",
       "                        poster_path                     backdrop_path  \\\n",
       "0  /4m1Au3YkjqsxF8iwQy0fPYSxE0h.jpg  /qlxy8yo5bcgUw2KAmmojUKp4rHd.jpg   \n",
       "1  /9JBEPLTPSm0d1mbEcLxULjJq9Eh.jpg  /hiHGRbyTcbZoLsYYkO4QiCLYe34.jpg   \n",
       "2  /gPbM0MK8CP8A174rmUwGsADNYKD.jpg  /woJbg7ZqidhpvqFGGMRhWQNoxwa.jpg   \n",
       "3  /qnqGbB22YJ7dSs4o6M7exTpNxPz.jpg  /m8JTwHFwX7I7JY5fPe4SjqejWag.jpg   \n",
       "4  /cvsXj3I9Q2iyyIo95AecSd1tad7.jpg  /5i6SjyDbDWqyun8klUuCxrlFbyw.jpg   \n",
       "\n",
       "                                     recommendations  \n",
       "0  1006462-298618-569094-1061181-346698-1076487-6...  \n",
       "1  713704-296271-502356-1076605-1084225-1008005-9...  \n",
       "2  496450-569094-298618-385687-877100-598331-4628...  \n",
       "3  823999-676841-868759-734048-267805-965839-1033...  \n",
       "4  965839-267805-943822-842942-1035806-823999-107...  \n",
       "\n",
       "[5 rows x 21 columns]"
      ]
     },
     "execution_count": 51,
     "metadata": {},
     "output_type": "execute_result"
    }
   ],
   "source": [
    "### Reading the dataset \n",
    "movies_df = pd.read_csv('movies_df.csv')\n",
    "movies_df.head()"
   ]
  },
  {
   "cell_type": "code",
   "execution_count": 52,
   "id": "619d886f",
   "metadata": {},
   "outputs": [
    {
     "data": {
      "text/plain": [
       "(16239, 21)"
      ]
     },
     "execution_count": 52,
     "metadata": {},
     "output_type": "execute_result"
    }
   ],
   "source": [
    "movies_df.shape"
   ]
  },
  {
   "cell_type": "code",
   "execution_count": 53,
   "id": "783b8f77",
   "metadata": {},
   "outputs": [
    {
     "data": {
      "text/html": [
       "<div>\n",
       "<style scoped>\n",
       "    .dataframe tbody tr th:only-of-type {\n",
       "        vertical-align: middle;\n",
       "    }\n",
       "\n",
       "    .dataframe tbody tr th {\n",
       "        vertical-align: top;\n",
       "    }\n",
       "\n",
       "    .dataframe thead th {\n",
       "        text-align: right;\n",
       "    }\n",
       "</style>\n",
       "<table border=\"1\" class=\"dataframe\">\n",
       "  <thead>\n",
       "    <tr style=\"text-align: right;\">\n",
       "      <th></th>\n",
       "      <th>userid</th>\n",
       "      <th>movieid</th>\n",
       "      <th>popularity</th>\n",
       "      <th>budget</th>\n",
       "      <th>revenue</th>\n",
       "      <th>runtime</th>\n",
       "      <th>vote_average</th>\n",
       "      <th>vote_count</th>\n",
       "    </tr>\n",
       "  </thead>\n",
       "  <tbody>\n",
       "    <tr>\n",
       "      <th>count</th>\n",
       "      <td>16239.000000</td>\n",
       "      <td>16239.000000</td>\n",
       "      <td>16239.000000</td>\n",
       "      <td>1.623900e+04</td>\n",
       "      <td>1.623900e+04</td>\n",
       "      <td>16239.000000</td>\n",
       "      <td>16239.000000</td>\n",
       "      <td>16239.000000</td>\n",
       "    </tr>\n",
       "    <tr>\n",
       "      <th>mean</th>\n",
       "      <td>8120.000000</td>\n",
       "      <td>192358.455632</td>\n",
       "      <td>25.122935</td>\n",
       "      <td>1.413229e+07</td>\n",
       "      <td>4.072083e+07</td>\n",
       "      <td>102.810210</td>\n",
       "      <td>6.620422</td>\n",
       "      <td>1092.008498</td>\n",
       "    </tr>\n",
       "    <tr>\n",
       "      <th>std</th>\n",
       "      <td>4687.939846</td>\n",
       "      <td>237916.593424</td>\n",
       "      <td>130.684011</td>\n",
       "      <td>3.184361e+07</td>\n",
       "      <td>1.261503e+08</td>\n",
       "      <td>25.761857</td>\n",
       "      <td>0.735909</td>\n",
       "      <td>2351.625152</td>\n",
       "    </tr>\n",
       "    <tr>\n",
       "      <th>min</th>\n",
       "      <td>1.000000</td>\n",
       "      <td>2.000000</td>\n",
       "      <td>0.600000</td>\n",
       "      <td>0.000000e+00</td>\n",
       "      <td>0.000000e+00</td>\n",
       "      <td>0.000000</td>\n",
       "      <td>5.003000</td>\n",
       "      <td>101.000000</td>\n",
       "    </tr>\n",
       "    <tr>\n",
       "      <th>25%</th>\n",
       "      <td>4060.500000</td>\n",
       "      <td>11842.500000</td>\n",
       "      <td>8.833500</td>\n",
       "      <td>0.000000e+00</td>\n",
       "      <td>0.000000e+00</td>\n",
       "      <td>91.000000</td>\n",
       "      <td>6.100000</td>\n",
       "      <td>162.000000</td>\n",
       "    </tr>\n",
       "    <tr>\n",
       "      <th>50%</th>\n",
       "      <td>8120.000000</td>\n",
       "      <td>44450.000000</td>\n",
       "      <td>12.357000</td>\n",
       "      <td>0.000000e+00</td>\n",
       "      <td>1.313570e+05</td>\n",
       "      <td>101.000000</td>\n",
       "      <td>6.600000</td>\n",
       "      <td>308.000000</td>\n",
       "    </tr>\n",
       "    <tr>\n",
       "      <th>75%</th>\n",
       "      <td>12179.500000</td>\n",
       "      <td>367270.500000</td>\n",
       "      <td>19.981000</td>\n",
       "      <td>1.400000e+07</td>\n",
       "      <td>2.337689e+07</td>\n",
       "      <td>114.000000</td>\n",
       "      <td>7.195000</td>\n",
       "      <td>881.500000</td>\n",
       "    </tr>\n",
       "    <tr>\n",
       "      <th>max</th>\n",
       "      <td>16239.000000</td>\n",
       "      <td>968051.000000</td>\n",
       "      <td>8763.998000</td>\n",
       "      <td>4.600000e+08</td>\n",
       "      <td>2.920357e+09</td>\n",
       "      <td>583.000000</td>\n",
       "      <td>9.200000</td>\n",
       "      <td>33262.000000</td>\n",
       "    </tr>\n",
       "  </tbody>\n",
       "</table>\n",
       "</div>"
      ],
      "text/plain": [
       "             userid        movieid    popularity        budget       revenue  \\\n",
       "count  16239.000000   16239.000000  16239.000000  1.623900e+04  1.623900e+04   \n",
       "mean    8120.000000  192358.455632     25.122935  1.413229e+07  4.072083e+07   \n",
       "std     4687.939846  237916.593424    130.684011  3.184361e+07  1.261503e+08   \n",
       "min        1.000000       2.000000      0.600000  0.000000e+00  0.000000e+00   \n",
       "25%     4060.500000   11842.500000      8.833500  0.000000e+00  0.000000e+00   \n",
       "50%     8120.000000   44450.000000     12.357000  0.000000e+00  1.313570e+05   \n",
       "75%    12179.500000  367270.500000     19.981000  1.400000e+07  2.337689e+07   \n",
       "max    16239.000000  968051.000000   8763.998000  4.600000e+08  2.920357e+09   \n",
       "\n",
       "            runtime  vote_average    vote_count  \n",
       "count  16239.000000  16239.000000  16239.000000  \n",
       "mean     102.810210      6.620422   1092.008498  \n",
       "std       25.761857      0.735909   2351.625152  \n",
       "min        0.000000      5.003000    101.000000  \n",
       "25%       91.000000      6.100000    162.000000  \n",
       "50%      101.000000      6.600000    308.000000  \n",
       "75%      114.000000      7.195000    881.500000  \n",
       "max      583.000000      9.200000  33262.000000  "
      ]
     },
     "execution_count": 53,
     "metadata": {},
     "output_type": "execute_result"
    }
   ],
   "source": [
    "movies_df.describe()"
   ]
  },
  {
   "cell_type": "code",
   "execution_count": 54,
   "id": "a67e1d86",
   "metadata": {},
   "outputs": [
    {
     "data": {
      "text/plain": [
       "userid                  16239\n",
       "movieid                 16057\n",
       "title                   15369\n",
       "genres                   2878\n",
       "original_language          57\n",
       "overview                16031\n",
       "popularity              11837\n",
       "production_companies    12939\n",
       "release_date             8574\n",
       "budget                   1087\n",
       "revenue                  7983\n",
       "runtime                   236\n",
       "status                      1\n",
       "tagline                 11535\n",
       "vote_average             2169\n",
       "vote_count               3401\n",
       "credits                 15965\n",
       "keywords                14015\n",
       "poster_path             16056\n",
       "backdrop_path           16011\n",
       "recommendations         14854\n",
       "dtype: int64"
      ]
     },
     "execution_count": 54,
     "metadata": {},
     "output_type": "execute_result"
    }
   ],
   "source": [
    "movies_df.nunique()"
   ]
  },
  {
   "cell_type": "markdown",
   "id": "32974534",
   "metadata": {},
   "source": [
    "### Selecting key features in the dataset and creating metadata column  "
   ]
  },
  {
   "cell_type": "code",
   "execution_count": 55,
   "id": "72eb2e74",
   "metadata": {},
   "outputs": [],
   "source": [
    "#Selecting the necessary features in the dataset\n",
    "movies = movies_df[['userid','movieid', 'title', 'genres', 'overview', 'tagline', 'vote_average','keywords']]"
   ]
  },
  {
   "cell_type": "code",
   "execution_count": 56,
   "id": "213a672a",
   "metadata": {
    "scrolled": true
   },
   "outputs": [
    {
     "data": {
      "text/plain": [
       "userid             0\n",
       "movieid            0\n",
       "title              0\n",
       "genres             6\n",
       "overview          28\n",
       "tagline         4563\n",
       "vote_average       0\n",
       "keywords        1605\n",
       "dtype: int64"
      ]
     },
     "execution_count": 56,
     "metadata": {},
     "output_type": "execute_result"
    }
   ],
   "source": [
    "movies.isnull().sum()"
   ]
  },
  {
   "cell_type": "code",
   "execution_count": 57,
   "id": "fd2257e3",
   "metadata": {},
   "outputs": [
    {
     "data": {
      "text/html": [
       "<div>\n",
       "<style scoped>\n",
       "    .dataframe tbody tr th:only-of-type {\n",
       "        vertical-align: middle;\n",
       "    }\n",
       "\n",
       "    .dataframe tbody tr th {\n",
       "        vertical-align: top;\n",
       "    }\n",
       "\n",
       "    .dataframe thead th {\n",
       "        text-align: right;\n",
       "    }\n",
       "</style>\n",
       "<table border=\"1\" class=\"dataframe\">\n",
       "  <thead>\n",
       "    <tr style=\"text-align: right;\">\n",
       "      <th></th>\n",
       "      <th>column_name</th>\n",
       "      <th>percent_missing</th>\n",
       "    </tr>\n",
       "  </thead>\n",
       "  <tbody>\n",
       "    <tr>\n",
       "      <th>0</th>\n",
       "      <td>tagline</td>\n",
       "      <td>28.10</td>\n",
       "    </tr>\n",
       "    <tr>\n",
       "      <th>1</th>\n",
       "      <td>keywords</td>\n",
       "      <td>9.88</td>\n",
       "    </tr>\n",
       "    <tr>\n",
       "      <th>2</th>\n",
       "      <td>overview</td>\n",
       "      <td>0.17</td>\n",
       "    </tr>\n",
       "    <tr>\n",
       "      <th>3</th>\n",
       "      <td>genres</td>\n",
       "      <td>0.04</td>\n",
       "    </tr>\n",
       "    <tr>\n",
       "      <th>4</th>\n",
       "      <td>userid</td>\n",
       "      <td>0.00</td>\n",
       "    </tr>\n",
       "    <tr>\n",
       "      <th>5</th>\n",
       "      <td>movieid</td>\n",
       "      <td>0.00</td>\n",
       "    </tr>\n",
       "    <tr>\n",
       "      <th>6</th>\n",
       "      <td>title</td>\n",
       "      <td>0.00</td>\n",
       "    </tr>\n",
       "    <tr>\n",
       "      <th>7</th>\n",
       "      <td>vote_average</td>\n",
       "      <td>0.00</td>\n",
       "    </tr>\n",
       "  </tbody>\n",
       "</table>\n",
       "</div>"
      ],
      "text/plain": [
       "    column_name  percent_missing\n",
       "0       tagline            28.10\n",
       "1      keywords             9.88\n",
       "2      overview             0.17\n",
       "3        genres             0.04\n",
       "4        userid             0.00\n",
       "5       movieid             0.00\n",
       "6         title             0.00\n",
       "7  vote_average             0.00"
      ]
     },
     "execution_count": 57,
     "metadata": {},
     "output_type": "execute_result"
    }
   ],
   "source": [
    "null_ = round(movies.isnull().sum().sort_values(ascending=False)/movies.shape[0]*100,2).reset_index().rename(columns={'index':'column_name', 0:'percent_missing'})\n",
    "null_"
   ]
  },
  {
   "cell_type": "code",
   "execution_count": 58,
   "id": "3f7b822a",
   "metadata": {},
   "outputs": [
    {
     "data": {
      "text/plain": [
       "'Action-Science Fiction-Horror'"
      ]
     },
     "execution_count": 58,
     "metadata": {},
     "output_type": "execute_result"
    }
   ],
   "source": [
    "## Working on the genres column\n",
    "movies.iloc[0].genres"
   ]
  },
  {
   "cell_type": "code",
   "execution_count": 59,
   "id": "79a9ab02",
   "metadata": {},
   "outputs": [
    {
     "data": {
      "text/html": [
       "<div>\n",
       "<style scoped>\n",
       "    .dataframe tbody tr th:only-of-type {\n",
       "        vertical-align: middle;\n",
       "    }\n",
       "\n",
       "    .dataframe tbody tr th {\n",
       "        vertical-align: top;\n",
       "    }\n",
       "\n",
       "    .dataframe thead th {\n",
       "        text-align: right;\n",
       "    }\n",
       "</style>\n",
       "<table border=\"1\" class=\"dataframe\">\n",
       "  <thead>\n",
       "    <tr style=\"text-align: right;\">\n",
       "      <th></th>\n",
       "      <th>userid</th>\n",
       "      <th>movieid</th>\n",
       "      <th>title</th>\n",
       "      <th>genres</th>\n",
       "      <th>overview</th>\n",
       "      <th>tagline</th>\n",
       "      <th>vote_average</th>\n",
       "      <th>keywords</th>\n",
       "    </tr>\n",
       "  </thead>\n",
       "  <tbody>\n",
       "    <tr>\n",
       "      <th>0</th>\n",
       "      <td>1</td>\n",
       "      <td>615656</td>\n",
       "      <td>Meg 2: The Trench</td>\n",
       "      <td>Action Science Fiction Horror</td>\n",
       "      <td>An exploratory dive into the deepest depths of...</td>\n",
       "      <td>Back for seconds.</td>\n",
       "      <td>7.079</td>\n",
       "      <td>based on novel or book-sequel-kaiju</td>\n",
       "    </tr>\n",
       "    <tr>\n",
       "      <th>1</th>\n",
       "      <td>2</td>\n",
       "      <td>758323</td>\n",
       "      <td>The Pope's Exorcist</td>\n",
       "      <td>Horror Mystery Thriller</td>\n",
       "      <td>Father Gabriele Amorth Chief Exorcist of the V...</td>\n",
       "      <td>Inspired by the actual files of Father Gabriel...</td>\n",
       "      <td>7.433</td>\n",
       "      <td>spain-rome italy-vatican-pope-pig-possession-c...</td>\n",
       "    </tr>\n",
       "    <tr>\n",
       "      <th>2</th>\n",
       "      <td>3</td>\n",
       "      <td>667538</td>\n",
       "      <td>Transformers: Rise of the Beasts</td>\n",
       "      <td>Action Adventure Science Fiction</td>\n",
       "      <td>When a new threat capable of destroying the en...</td>\n",
       "      <td>Unite or fall.</td>\n",
       "      <td>7.340</td>\n",
       "      <td>peru-alien-end of the world-based on cartoon-b...</td>\n",
       "    </tr>\n",
       "    <tr>\n",
       "      <th>3</th>\n",
       "      <td>4</td>\n",
       "      <td>640146</td>\n",
       "      <td>Ant-Man and the Wasp: Quantumania</td>\n",
       "      <td>Action Adventure Science Fiction</td>\n",
       "      <td>Super-Hero partners Scott Lang and Hope van Dy...</td>\n",
       "      <td>Witness the beginning of a new dynasty.</td>\n",
       "      <td>6.507</td>\n",
       "      <td>hero-ant-sequel-superhero-based on comic-famil...</td>\n",
       "    </tr>\n",
       "    <tr>\n",
       "      <th>4</th>\n",
       "      <td>5</td>\n",
       "      <td>677179</td>\n",
       "      <td>Creed III</td>\n",
       "      <td>Drama Action</td>\n",
       "      <td>After dominating the boxing world Adonis Creed...</td>\n",
       "      <td>You can't run from your past.</td>\n",
       "      <td>7.262</td>\n",
       "      <td>philadelphia pennsylvania-husband wife relatio...</td>\n",
       "    </tr>\n",
       "  </tbody>\n",
       "</table>\n",
       "</div>"
      ],
      "text/plain": [
       "   userid  movieid                              title  \\\n",
       "0       1   615656                  Meg 2: The Trench   \n",
       "1       2   758323                The Pope's Exorcist   \n",
       "2       3   667538   Transformers: Rise of the Beasts   \n",
       "3       4   640146  Ant-Man and the Wasp: Quantumania   \n",
       "4       5   677179                          Creed III   \n",
       "\n",
       "                             genres  \\\n",
       "0     Action Science Fiction Horror   \n",
       "1           Horror Mystery Thriller   \n",
       "2  Action Adventure Science Fiction   \n",
       "3  Action Adventure Science Fiction   \n",
       "4                      Drama Action   \n",
       "\n",
       "                                            overview  \\\n",
       "0  An exploratory dive into the deepest depths of...   \n",
       "1  Father Gabriele Amorth Chief Exorcist of the V...   \n",
       "2  When a new threat capable of destroying the en...   \n",
       "3  Super-Hero partners Scott Lang and Hope van Dy...   \n",
       "4  After dominating the boxing world Adonis Creed...   \n",
       "\n",
       "                                             tagline  vote_average  \\\n",
       "0                                  Back for seconds.         7.079   \n",
       "1  Inspired by the actual files of Father Gabriel...         7.433   \n",
       "2                                     Unite or fall.         7.340   \n",
       "3            Witness the beginning of a new dynasty.         6.507   \n",
       "4                      You can't run from your past.         7.262   \n",
       "\n",
       "                                            keywords  \n",
       "0                based on novel or book-sequel-kaiju  \n",
       "1  spain-rome italy-vatican-pope-pig-possession-c...  \n",
       "2  peru-alien-end of the world-based on cartoon-b...  \n",
       "3  hero-ant-sequel-superhero-based on comic-famil...  \n",
       "4  philadelphia pennsylvania-husband wife relatio...  "
      ]
     },
     "execution_count": 59,
     "metadata": {},
     "output_type": "execute_result"
    }
   ],
   "source": [
    "#Making the genres columns more readable\n",
    "movies['genres']= movies['genres'].str.replace('-',' ')\n",
    "movies.head()"
   ]
  },
  {
   "cell_type": "code",
   "execution_count": 60,
   "id": "73b0501a",
   "metadata": {},
   "outputs": [
    {
     "data": {
      "text/plain": [
       "'Action Science Fiction Horror'"
      ]
     },
     "execution_count": 60,
     "metadata": {},
     "output_type": "execute_result"
    }
   ],
   "source": [
    "movies.iloc[0].genres"
   ]
  },
  {
   "cell_type": "code",
   "execution_count": 61,
   "id": "a902ad47",
   "metadata": {},
   "outputs": [
    {
     "data": {
      "text/plain": [
       "'An exploratory dive into the deepest depths of the ocean of a daring research team spirals into chaos when a malevolent mining operation threatens their mission and forces them into a high-stakes battle for survival.'"
      ]
     },
     "execution_count": 61,
     "metadata": {},
     "output_type": "execute_result"
    }
   ],
   "source": [
    "## Inspecting the overviews columns\n",
    "movies.iloc[0].overview"
   ]
  },
  {
   "cell_type": "code",
   "execution_count": 62,
   "id": "ec6926c9",
   "metadata": {},
   "outputs": [
    {
     "data": {
      "text/plain": [
       "'Back for seconds.'"
      ]
     },
     "execution_count": 62,
     "metadata": {},
     "output_type": "execute_result"
    }
   ],
   "source": [
    "## Inspecting the tagline column\n",
    "movies.iloc[0].tagline"
   ]
  },
  {
   "cell_type": "code",
   "execution_count": 63,
   "id": "a21279f7",
   "metadata": {},
   "outputs": [
    {
     "data": {
      "text/plain": [
       "'based on novel or book-sequel-kaiju'"
      ]
     },
     "execution_count": 63,
     "metadata": {},
     "output_type": "execute_result"
    }
   ],
   "source": [
    "## Inspecting the keywords column\n",
    "movies.iloc[0].keywords"
   ]
  },
  {
   "cell_type": "code",
   "execution_count": 64,
   "id": "b540d0bd",
   "metadata": {},
   "outputs": [
    {
     "data": {
      "text/html": [
       "<div>\n",
       "<style scoped>\n",
       "    .dataframe tbody tr th:only-of-type {\n",
       "        vertical-align: middle;\n",
       "    }\n",
       "\n",
       "    .dataframe tbody tr th {\n",
       "        vertical-align: top;\n",
       "    }\n",
       "\n",
       "    .dataframe thead th {\n",
       "        text-align: right;\n",
       "    }\n",
       "</style>\n",
       "<table border=\"1\" class=\"dataframe\">\n",
       "  <thead>\n",
       "    <tr style=\"text-align: right;\">\n",
       "      <th></th>\n",
       "      <th>userid</th>\n",
       "      <th>movieid</th>\n",
       "      <th>title</th>\n",
       "      <th>genres</th>\n",
       "      <th>overview</th>\n",
       "      <th>tagline</th>\n",
       "      <th>vote_average</th>\n",
       "      <th>keywords</th>\n",
       "      <th>metadata</th>\n",
       "    </tr>\n",
       "  </thead>\n",
       "  <tbody>\n",
       "    <tr>\n",
       "      <th>0</th>\n",
       "      <td>1</td>\n",
       "      <td>615656</td>\n",
       "      <td>Meg 2: The Trench</td>\n",
       "      <td>Action Science Fiction Horror</td>\n",
       "      <td>An exploratory dive into the deepest depths of...</td>\n",
       "      <td>Back for seconds.</td>\n",
       "      <td>7.079</td>\n",
       "      <td>based on novel or book-sequel-kaiju</td>\n",
       "      <td>Action Science Fiction Horror An exploratory d...</td>\n",
       "    </tr>\n",
       "    <tr>\n",
       "      <th>1</th>\n",
       "      <td>2</td>\n",
       "      <td>758323</td>\n",
       "      <td>The Pope's Exorcist</td>\n",
       "      <td>Horror Mystery Thriller</td>\n",
       "      <td>Father Gabriele Amorth Chief Exorcist of the V...</td>\n",
       "      <td>Inspired by the actual files of Father Gabriel...</td>\n",
       "      <td>7.433</td>\n",
       "      <td>spain-rome italy-vatican-pope-pig-possession-c...</td>\n",
       "      <td>Horror Mystery Thriller Father Gabriele Amorth...</td>\n",
       "    </tr>\n",
       "  </tbody>\n",
       "</table>\n",
       "</div>"
      ],
      "text/plain": [
       "   userid  movieid                title                         genres  \\\n",
       "0       1   615656    Meg 2: The Trench  Action Science Fiction Horror   \n",
       "1       2   758323  The Pope's Exorcist        Horror Mystery Thriller   \n",
       "\n",
       "                                            overview  \\\n",
       "0  An exploratory dive into the deepest depths of...   \n",
       "1  Father Gabriele Amorth Chief Exorcist of the V...   \n",
       "\n",
       "                                             tagline  vote_average  \\\n",
       "0                                  Back for seconds.         7.079   \n",
       "1  Inspired by the actual files of Father Gabriel...         7.433   \n",
       "\n",
       "                                            keywords  \\\n",
       "0                based on novel or book-sequel-kaiju   \n",
       "1  spain-rome italy-vatican-pope-pig-possession-c...   \n",
       "\n",
       "                                            metadata  \n",
       "0  Action Science Fiction Horror An exploratory d...  \n",
       "1  Horror Mystery Thriller Father Gabriele Amorth...  "
      ]
     },
     "execution_count": 64,
     "metadata": {},
     "output_type": "execute_result"
    }
   ],
   "source": [
    "# filling any missing values in movies DataFrame with empty strings\n",
    "movies.fillna('', inplace=True)\n",
    "\n",
    "#Creating 'metadata' column in movies dataframe, combining: genres, overview, tagline, keyword columns with a space separator\n",
    "movies['metadata'] = movies[['genres', 'overview', 'tagline', 'keywords']].apply(lambda x: ' '.join(x), axis=1)\n",
    "movies.head(2)"
   ]
  },
  {
   "cell_type": "code",
   "execution_count": 65,
   "id": "33f27c0c",
   "metadata": {},
   "outputs": [
    {
     "data": {
      "text/html": [
       "<div>\n",
       "<style scoped>\n",
       "    .dataframe tbody tr th:only-of-type {\n",
       "        vertical-align: middle;\n",
       "    }\n",
       "\n",
       "    .dataframe tbody tr th {\n",
       "        vertical-align: top;\n",
       "    }\n",
       "\n",
       "    .dataframe thead th {\n",
       "        text-align: right;\n",
       "    }\n",
       "</style>\n",
       "<table border=\"1\" class=\"dataframe\">\n",
       "  <thead>\n",
       "    <tr style=\"text-align: right;\">\n",
       "      <th></th>\n",
       "      <th>column_name</th>\n",
       "      <th>percent_missing</th>\n",
       "    </tr>\n",
       "  </thead>\n",
       "  <tbody>\n",
       "    <tr>\n",
       "      <th>0</th>\n",
       "      <td>userid</td>\n",
       "      <td>0.0</td>\n",
       "    </tr>\n",
       "    <tr>\n",
       "      <th>1</th>\n",
       "      <td>movieid</td>\n",
       "      <td>0.0</td>\n",
       "    </tr>\n",
       "    <tr>\n",
       "      <th>2</th>\n",
       "      <td>title</td>\n",
       "      <td>0.0</td>\n",
       "    </tr>\n",
       "    <tr>\n",
       "      <th>3</th>\n",
       "      <td>genres</td>\n",
       "      <td>0.0</td>\n",
       "    </tr>\n",
       "    <tr>\n",
       "      <th>4</th>\n",
       "      <td>overview</td>\n",
       "      <td>0.0</td>\n",
       "    </tr>\n",
       "    <tr>\n",
       "      <th>5</th>\n",
       "      <td>tagline</td>\n",
       "      <td>0.0</td>\n",
       "    </tr>\n",
       "    <tr>\n",
       "      <th>6</th>\n",
       "      <td>vote_average</td>\n",
       "      <td>0.0</td>\n",
       "    </tr>\n",
       "    <tr>\n",
       "      <th>7</th>\n",
       "      <td>keywords</td>\n",
       "      <td>0.0</td>\n",
       "    </tr>\n",
       "    <tr>\n",
       "      <th>8</th>\n",
       "      <td>metadata</td>\n",
       "      <td>0.0</td>\n",
       "    </tr>\n",
       "  </tbody>\n",
       "</table>\n",
       "</div>"
      ],
      "text/plain": [
       "    column_name  percent_missing\n",
       "0        userid              0.0\n",
       "1       movieid              0.0\n",
       "2         title              0.0\n",
       "3        genres              0.0\n",
       "4      overview              0.0\n",
       "5       tagline              0.0\n",
       "6  vote_average              0.0\n",
       "7      keywords              0.0\n",
       "8      metadata              0.0"
      ]
     },
     "execution_count": 65,
     "metadata": {},
     "output_type": "execute_result"
    }
   ],
   "source": [
    "null_ = round(movies.isnull().sum().sort_values(ascending=False)/movies.shape[0]*100,2).reset_index().rename(columns={'index':'column_name', 0:'percent_missing'})\n",
    "null_"
   ]
  },
  {
   "cell_type": "code",
   "execution_count": 66,
   "id": "a348149b",
   "metadata": {},
   "outputs": [],
   "source": [
    "movies_dataset=movies.copy()"
   ]
  },
  {
   "cell_type": "code",
   "execution_count": 67,
   "id": "f3b8f2a4",
   "metadata": {},
   "outputs": [],
   "source": [
    "def metadata_cleaner(data):\n",
    "    # Convert everything to lowercase\n",
    "#     data = data.lower() \n",
    "    # Remove mentions   \n",
    "    data = re.sub('@[\\w]*',' ',data)  \n",
    "    # Remove url's\n",
    "    data = re.sub(r'https?:\\/\\/.*\\/\\w*',' ', data)\n",
    "    # Remove hashtags\n",
    "    data = re.sub(r'#\\w*', ' ', data)    \n",
    "    # Remove numbers\n",
    "    data = re.sub(r'\\d+', ' ', data)  \n",
    "#     # Remove punctuation\n",
    "#     data = re.sub(r\"[,.;':@#?!\\&/$]+\\ *\", ' ', data)\n",
    "    # Remove that funny diamond\n",
    "    data = re.sub(r\"U+FFFD \", ' ',data)\n",
    "    # Remove extra whitespace\n",
    "    data = re.sub(r'\\s\\s+', ' ', data)\n",
    "    # Remove space in front of tweet\n",
    "    data = data.lstrip(' ') \n",
    "#     #tokenize the message column of the pandas Dataframe\n",
    "#     tokeniser = TreebankWordTokenizer()\n",
    "#     data = tokeniser.tokenize(data)\n",
    "#     #remove words less than 2 letter word\n",
    "#     data = [word for word in data if len(word) >3]\n",
    "#     #get the unigue values in each row\n",
    "#     data = set(data)\n",
    "#     #convert tokenised word list to string\n",
    "#     data =' '.join(data)\n",
    "    return data\n",
    "\n",
    "\n",
    "# Clean the tweets in the message column\n",
    "movies_dataset['metadata'] = movies_dataset['metadata'].apply(metadata_cleaner)"
   ]
  },
  {
   "cell_type": "code",
   "execution_count": 68,
   "id": "3aedac3b",
   "metadata": {},
   "outputs": [
    {
     "data": {
      "text/plain": [
       "'Action Science Fiction Horror An exploratory dive into the deepest depths of the ocean of a daring research team spirals into chaos when a malevolent mining operation threatens their mission and forces them into a high-stakes battle for survival. Back for seconds. based on novel or book-sequel-kaiju'"
      ]
     },
     "execution_count": 68,
     "metadata": {},
     "output_type": "execute_result"
    }
   ],
   "source": [
    "movies_dataset['metadata'][0]"
   ]
  },
  {
   "cell_type": "code",
   "execution_count": 69,
   "id": "e004a043",
   "metadata": {},
   "outputs": [
    {
     "data": {
      "text/plain": [
       "\"Horror Mystery Thriller Father Gabriele Amorth Chief Exorcist of the Vatican investigates a young boy's terrifying possession and ends up uncovering a centuries-old conspiracy the Vatican has desperately tried to keep hidden. Inspired by the actual files of Father Gabriele Amorth, Chief Exorcist of the Vatican. spain-rome italy-vatican-pope-pig-possession-conspiracy-devil-exorcist-skepticism-catholic priest- s-supernatural horror\""
      ]
     },
     "execution_count": 69,
     "metadata": {},
     "output_type": "execute_result"
    }
   ],
   "source": [
    "movies_dataset['metadata'].tolist()[1]"
   ]
  },
  {
   "cell_type": "code",
   "execution_count": 70,
   "id": "466002f2",
   "metadata": {},
   "outputs": [
    {
     "data": {
      "text/html": [
       "<div>\n",
       "<style scoped>\n",
       "    .dataframe tbody tr th:only-of-type {\n",
       "        vertical-align: middle;\n",
       "    }\n",
       "\n",
       "    .dataframe tbody tr th {\n",
       "        vertical-align: top;\n",
       "    }\n",
       "\n",
       "    .dataframe thead th {\n",
       "        text-align: right;\n",
       "    }\n",
       "</style>\n",
       "<table border=\"1\" class=\"dataframe\">\n",
       "  <thead>\n",
       "    <tr style=\"text-align: right;\">\n",
       "      <th></th>\n",
       "      <th>userid</th>\n",
       "      <th>movieid</th>\n",
       "      <th>title</th>\n",
       "      <th>genres</th>\n",
       "      <th>overview</th>\n",
       "      <th>tagline</th>\n",
       "      <th>vote_average</th>\n",
       "      <th>keywords</th>\n",
       "      <th>metadata</th>\n",
       "    </tr>\n",
       "  </thead>\n",
       "  <tbody>\n",
       "    <tr>\n",
       "      <th>0</th>\n",
       "      <td>1</td>\n",
       "      <td>615656</td>\n",
       "      <td>Meg 2: The Trench</td>\n",
       "      <td>Action Science Fiction Horror</td>\n",
       "      <td>An exploratory dive into the deepest depths of...</td>\n",
       "      <td>Back for seconds.</td>\n",
       "      <td>7.079</td>\n",
       "      <td>based on novel or book-sequel-kaiju</td>\n",
       "      <td>Action Science Fiction Horror An exploratory d...</td>\n",
       "    </tr>\n",
       "    <tr>\n",
       "      <th>1</th>\n",
       "      <td>2</td>\n",
       "      <td>758323</td>\n",
       "      <td>The Pope's Exorcist</td>\n",
       "      <td>Horror Mystery Thriller</td>\n",
       "      <td>Father Gabriele Amorth Chief Exorcist of the V...</td>\n",
       "      <td>Inspired by the actual files of Father Gabriel...</td>\n",
       "      <td>7.433</td>\n",
       "      <td>spain-rome italy-vatican-pope-pig-possession-c...</td>\n",
       "      <td>Horror Mystery Thriller Father Gabriele Amorth...</td>\n",
       "    </tr>\n",
       "  </tbody>\n",
       "</table>\n",
       "</div>"
      ],
      "text/plain": [
       "   userid  movieid                title                         genres  \\\n",
       "0       1   615656    Meg 2: The Trench  Action Science Fiction Horror   \n",
       "1       2   758323  The Pope's Exorcist        Horror Mystery Thriller   \n",
       "\n",
       "                                            overview  \\\n",
       "0  An exploratory dive into the deepest depths of...   \n",
       "1  Father Gabriele Amorth Chief Exorcist of the V...   \n",
       "\n",
       "                                             tagline  vote_average  \\\n",
       "0                                  Back for seconds.         7.079   \n",
       "1  Inspired by the actual files of Father Gabriel...         7.433   \n",
       "\n",
       "                                            keywords  \\\n",
       "0                based on novel or book-sequel-kaiju   \n",
       "1  spain-rome italy-vatican-pope-pig-possession-c...   \n",
       "\n",
       "                                            metadata  \n",
       "0  Action Science Fiction Horror An exploratory d...  \n",
       "1  Horror Mystery Thriller Father Gabriele Amorth...  "
      ]
     },
     "execution_count": 70,
     "metadata": {},
     "output_type": "execute_result"
    }
   ],
   "source": [
    "movies_dataset.head(2)"
   ]
  },
  {
   "cell_type": "code",
   "execution_count": 71,
   "id": "947889e2",
   "metadata": {},
   "outputs": [
    {
     "data": {
      "text/html": [
       "<div>\n",
       "<style scoped>\n",
       "    .dataframe tbody tr th:only-of-type {\n",
       "        vertical-align: middle;\n",
       "    }\n",
       "\n",
       "    .dataframe tbody tr th {\n",
       "        vertical-align: top;\n",
       "    }\n",
       "\n",
       "    .dataframe thead th {\n",
       "        text-align: right;\n",
       "    }\n",
       "</style>\n",
       "<table border=\"1\" class=\"dataframe\">\n",
       "  <thead>\n",
       "    <tr style=\"text-align: right;\">\n",
       "      <th></th>\n",
       "      <th>movieid</th>\n",
       "      <th>title</th>\n",
       "      <th>metadata</th>\n",
       "    </tr>\n",
       "  </thead>\n",
       "  <tbody>\n",
       "    <tr>\n",
       "      <th>0</th>\n",
       "      <td>615656</td>\n",
       "      <td>Meg 2: The Trench</td>\n",
       "      <td>Action Science Fiction Horror An exploratory d...</td>\n",
       "    </tr>\n",
       "    <tr>\n",
       "      <th>1</th>\n",
       "      <td>758323</td>\n",
       "      <td>The Pope's Exorcist</td>\n",
       "      <td>Horror Mystery Thriller Father Gabriele Amorth...</td>\n",
       "    </tr>\n",
       "    <tr>\n",
       "      <th>2</th>\n",
       "      <td>667538</td>\n",
       "      <td>Transformers: Rise of the Beasts</td>\n",
       "      <td>Action Adventure Science Fiction When a new th...</td>\n",
       "    </tr>\n",
       "    <tr>\n",
       "      <th>3</th>\n",
       "      <td>640146</td>\n",
       "      <td>Ant-Man and the Wasp: Quantumania</td>\n",
       "      <td>Action Adventure Science Fiction Super-Hero pa...</td>\n",
       "    </tr>\n",
       "    <tr>\n",
       "      <th>4</th>\n",
       "      <td>677179</td>\n",
       "      <td>Creed III</td>\n",
       "      <td>Drama Action After dominating the boxing world...</td>\n",
       "    </tr>\n",
       "  </tbody>\n",
       "</table>\n",
       "</div>"
      ],
      "text/plain": [
       "   movieid                              title  \\\n",
       "0   615656                  Meg 2: The Trench   \n",
       "1   758323                The Pope's Exorcist   \n",
       "2   667538   Transformers: Rise of the Beasts   \n",
       "3   640146  Ant-Man and the Wasp: Quantumania   \n",
       "4   677179                          Creed III   \n",
       "\n",
       "                                            metadata  \n",
       "0  Action Science Fiction Horror An exploratory d...  \n",
       "1  Horror Mystery Thriller Father Gabriele Amorth...  \n",
       "2  Action Adventure Science Fiction When a new th...  \n",
       "3  Action Adventure Science Fiction Super-Hero pa...  \n",
       "4  Drama Action After dominating the boxing world...  "
      ]
     },
     "execution_count": 71,
     "metadata": {},
     "output_type": "execute_result"
    }
   ],
   "source": [
    "movies_dataset = movies_dataset[['movieid','title','metadata']]\n",
    "movies_dataset.head()"
   ]
  },
  {
   "cell_type": "code",
   "execution_count": 72,
   "id": "e4d0e70e",
   "metadata": {},
   "outputs": [
    {
     "data": {
      "text/plain": [
       "(16239, 3)"
      ]
     },
     "execution_count": 72,
     "metadata": {},
     "output_type": "execute_result"
    }
   ],
   "source": [
    "movies_dataset.shape"
   ]
  },
  {
   "cell_type": "code",
   "execution_count": 73,
   "id": "ac59db55",
   "metadata": {},
   "outputs": [],
   "source": [
    "movies_dataset = movies_dataset.iloc[:2000, :]"
   ]
  },
  {
   "cell_type": "markdown",
   "id": "c9602d21",
   "metadata": {},
   "source": [
    "### Checking for duplicates in out final dataset"
   ]
  },
  {
   "cell_type": "code",
   "execution_count": 74,
   "id": "28b08929",
   "metadata": {},
   "outputs": [
    {
     "data": {
      "text/plain": [
       "3"
      ]
     },
     "execution_count": 74,
     "metadata": {},
     "output_type": "execute_result"
    }
   ],
   "source": [
    "movies_dataset.duplicated().sum()"
   ]
  },
  {
   "cell_type": "code",
   "execution_count": 75,
   "id": "44ef0198",
   "metadata": {},
   "outputs": [
    {
     "data": {
      "text/plain": [
       "Index(['movieid', 'title', 'metadata'], dtype='object')"
      ]
     },
     "execution_count": 75,
     "metadata": {},
     "output_type": "execute_result"
    }
   ],
   "source": [
    "movies_dataset.columns"
   ]
  },
  {
   "cell_type": "code",
   "execution_count": 76,
   "id": "8e687f50",
   "metadata": {},
   "outputs": [
    {
     "name": "stdout",
     "output_type": "stream",
     "text": [
      "Duplicated Rows : \n"
     ]
    },
    {
     "data": {
      "text/html": [
       "<div>\n",
       "<style scoped>\n",
       "    .dataframe tbody tr th:only-of-type {\n",
       "        vertical-align: middle;\n",
       "    }\n",
       "\n",
       "    .dataframe tbody tr th {\n",
       "        vertical-align: top;\n",
       "    }\n",
       "\n",
       "    .dataframe thead th {\n",
       "        text-align: right;\n",
       "    }\n",
       "</style>\n",
       "<table border=\"1\" class=\"dataframe\">\n",
       "  <thead>\n",
       "    <tr style=\"text-align: right;\">\n",
       "      <th></th>\n",
       "      <th>movieid</th>\n",
       "      <th>title</th>\n",
       "      <th>metadata</th>\n",
       "    </tr>\n",
       "  </thead>\n",
       "  <tbody>\n",
       "    <tr>\n",
       "      <th>146</th>\n",
       "      <td>831223</td>\n",
       "      <td>Gone Mom: The Disappearance of Jennifer Dulos</td>\n",
       "      <td>TV Movie Thriller Crime Jennifer Dulos the wea...</td>\n",
       "    </tr>\n",
       "    <tr>\n",
       "      <th>258</th>\n",
       "      <td>777350</td>\n",
       "      <td>Dory's Reef Cam</td>\n",
       "      <td>Family Animation Comedy Adventure Dive into th...</td>\n",
       "    </tr>\n",
       "    <tr>\n",
       "      <th>266</th>\n",
       "      <td>777350</td>\n",
       "      <td>Dory's Reef Cam</td>\n",
       "      <td>Family Animation Comedy Adventure Dive into th...</td>\n",
       "    </tr>\n",
       "  </tbody>\n",
       "</table>\n",
       "</div>"
      ],
      "text/plain": [
       "     movieid                                          title  \\\n",
       "146   831223  Gone Mom: The Disappearance of Jennifer Dulos   \n",
       "258   777350                                Dory's Reef Cam   \n",
       "266   777350                                Dory's Reef Cam   \n",
       "\n",
       "                                              metadata  \n",
       "146  TV Movie Thriller Crime Jennifer Dulos the wea...  \n",
       "258  Family Animation Comedy Adventure Dive into th...  \n",
       "266  Family Animation Comedy Adventure Dive into th...  "
      ]
     },
     "execution_count": 76,
     "metadata": {},
     "output_type": "execute_result"
    }
   ],
   "source": [
    "dup_rows = pd.DataFrame(movies_dataset, columns=['movieid', 'title', 'metadata'])\n",
    "\n",
    "duplicate =dup_rows[dup_rows.duplicated()]\n",
    "print(\"Duplicated Rows : \")\n",
    "duplicate"
   ]
  },
  {
   "cell_type": "code",
   "execution_count": 77,
   "id": "36a62394",
   "metadata": {},
   "outputs": [],
   "source": [
    "movies_dataset = movies_dataset.drop_duplicates()"
   ]
  },
  {
   "cell_type": "code",
   "execution_count": 78,
   "id": "8ba0cc02",
   "metadata": {},
   "outputs": [
    {
     "data": {
      "text/plain": [
       "0"
      ]
     },
     "execution_count": 78,
     "metadata": {},
     "output_type": "execute_result"
    }
   ],
   "source": [
    "movies_dataset.duplicated().sum()"
   ]
  },
  {
   "cell_type": "markdown",
   "id": "68d74f92",
   "metadata": {},
   "source": [
    "<h3>Using CountVectorizer to convert text into vectors</h3>\n",
    "\n",
    "CountVectorizer converts text into vectors on the basis of the frequency\n",
    "\n",
    "(counts) of each word that occurs in the entire text.\n",
    "\n",
    "converts a collection of text documents to a matrix of token counts"
   ]
  },
  {
   "cell_type": "code",
   "execution_count": 79,
   "id": "98d4ae7a",
   "metadata": {},
   "outputs": [],
   "source": [
    "# from sklearn.feature_extraction.text import CountVectorizer\n",
    "cv = CountVectorizer(max_features=2000, stop_words=\"english\")"
   ]
  },
  {
   "cell_type": "code",
   "execution_count": 80,
   "id": "f69de533",
   "metadata": {},
   "outputs": [],
   "source": [
    "# Learn the vocabulary dictionary and return document-term matrix\n",
    "vectors = cv.fit_transform(movies_dataset['metadata']).toarray()"
   ]
  },
  {
   "cell_type": "code",
   "execution_count": 81,
   "id": "6149ea67",
   "metadata": {},
   "outputs": [
    {
     "data": {
      "text/plain": [
       "(1997, 2000)"
      ]
     },
     "execution_count": 81,
     "metadata": {},
     "output_type": "execute_result"
    }
   ],
   "source": [
    "vectors.shape"
   ]
  },
  {
   "cell_type": "code",
   "execution_count": 82,
   "id": "5cc54a1e",
   "metadata": {},
   "outputs": [
    {
     "data": {
      "text/plain": [
       "array(['abandoned', 'abducted', 'abduction', ..., 'zombies', 'zone',\n",
       "       'zoo'], dtype=object)"
      ]
     },
     "execution_count": 82,
     "metadata": {},
     "output_type": "execute_result"
    }
   ],
   "source": [
    "# Array mapping from feature integer indices to feature names \n",
    "cv.get_feature_names_out()"
   ]
  },
  {
   "cell_type": "code",
   "execution_count": 83,
   "id": "243f5254",
   "metadata": {},
   "outputs": [
    {
     "data": {
      "text/plain": [
       "2000"
      ]
     },
     "execution_count": 83,
     "metadata": {},
     "output_type": "execute_result"
    }
   ],
   "source": [
    "len(cv.get_feature_names_out())"
   ]
  },
  {
   "cell_type": "markdown",
   "id": "99a5aa93",
   "metadata": {},
   "source": [
    "### Applying Cosine Distance Concept "
   ]
  },
  {
   "cell_type": "code",
   "execution_count": 84,
   "id": "9acc52f8",
   "metadata": {},
   "outputs": [
    {
     "data": {
      "text/plain": [
       "(1997, 1997)"
      ]
     },
     "execution_count": 84,
     "metadata": {},
     "output_type": "execute_result"
    }
   ],
   "source": [
    "# from sklearn.metrics.pairwise import cosine_similarity\n",
    "cosine_similarity(vectors).shape"
   ]
  },
  {
   "cell_type": "code",
   "execution_count": 85,
   "id": "47031b98",
   "metadata": {},
   "outputs": [
    {
     "data": {
      "text/plain": [
       "array([1.        , 0.05802589, 0.22758963, ..., 0.        , 0.        ,\n",
       "       0.13957263])"
      ]
     },
     "execution_count": 85,
     "metadata": {},
     "output_type": "execute_result"
    }
   ],
   "source": [
    "similarity = cosine_similarity(vectors)\n",
    "similarity[0]"
   ]
  },
  {
   "cell_type": "code",
   "execution_count": 86,
   "id": "c9b0f8bf",
   "metadata": {},
   "outputs": [
    {
     "data": {
      "text/plain": [
       "[(582, 0.38924947208076144),\n",
       " (810, 0.32907259085720875),\n",
       " (868, 0.3111879571320709),\n",
       " (1452, 0.3063358324269934),\n",
       " (743, 0.29346959282671103),\n",
       " (188, 0.28829998806257884),\n",
       " (19, 0.2823912473624525),\n",
       " (904, 0.279946255477927),\n",
       " (846, 0.27713265386271346)]"
      ]
     },
     "execution_count": 86,
     "metadata": {},
     "output_type": "execute_result"
    }
   ],
   "source": [
    "# Using the enumerate function to return both the indexes and values of lists \n",
    "sorted(list(enumerate(similarity[0])),reverse=True, key = lambda x:x[1])[1:10]"
   ]
  },
  {
   "cell_type": "markdown",
   "id": "cf78e24d",
   "metadata": {},
   "source": [
    "### Creating a recommendation system"
   ]
  },
  {
   "cell_type": "code",
   "execution_count": 87,
   "id": "c1881a22",
   "metadata": {},
   "outputs": [],
   "source": [
    "def recommend(movie):\n",
    "    movie_index = movies_dataset[movies_dataset['title'] == movie].index[0] ## fectching the movie index\n",
    "    distances = similarity[movie_index]\n",
    "    movie_list = sorted(list(enumerate(distances)),reverse=True, key = lambda x:x[1])[1:10]\n",
    "    \n",
    "    for i in movie_list:\n",
    "        print(movies_dataset.iloc[i[0]].title)"
   ]
  },
  {
   "cell_type": "code",
   "execution_count": 88,
   "id": "2b97873d",
   "metadata": {},
   "outputs": [
    {
     "name": "stdout",
     "output_type": "stream",
     "text": [
      "Rebel Moon - Part One: A Child of Fire\n",
      "Alien\n",
      "Dune\n",
      "Battle: Los Angeles\n",
      "Lightyear\n",
      "Aliens\n",
      "Project Gemini\n",
      "Rogue One: A Star Wars Story\n",
      "Space Sweepers\n"
     ]
    }
   ],
   "source": [
    "recommend('Avatar')"
   ]
  },
  {
   "cell_type": "code",
   "execution_count": 89,
   "id": "3d89e5af",
   "metadata": {},
   "outputs": [
    {
     "name": "stdout",
     "output_type": "stream",
     "text": [
      "Dragon Ball Z: Lord Slug\n",
      "Dragon Ball: Episode of Bardock\n",
      "Dragon Ball Z: Cooler's Revenge\n",
      "Dragon Ball Z: Resurrection 'F - Future Trunks Special Edition\n",
      "Dragon Ball: Yo! Son Goku and His Friends Return!!\n",
      "Dragon Ball Z: The Tree of Might\n",
      "Dragon Ball Z: Battle of Gods\n",
      "Mobile Suit Gundam Hathaway\n",
      "Dream 9 Toriko & One Piece & Dragon Ball Z Super Collaboration Special!!\n"
     ]
    }
   ],
   "source": [
    "recommend('Toy Story')"
   ]
  },
  {
   "cell_type": "markdown",
   "id": "ac108cb2",
   "metadata": {},
   "source": [
    "### Pickling the Model  "
   ]
  },
  {
   "cell_type": "code",
   "execution_count": 90,
   "id": "6b8b8898",
   "metadata": {},
   "outputs": [],
   "source": [
    "# import pickle\n",
    "pickle.dump(movies_dataset, open('movies_dataset.pkl', 'wb'))\n",
    "pickle.dump(similarity, open('similarity.pkl', 'wb'))"
   ]
  },
  {
   "cell_type": "code",
   "execution_count": 91,
   "id": "9bf0b503",
   "metadata": {},
   "outputs": [],
   "source": [
    "# saving the the movie dataset as dictionary \n",
    "pickle.dump(movies_dataset.to_dict(), open('movies_dataset_dict.pkl', 'wb'))"
   ]
  },
  {
   "cell_type": "code",
   "execution_count": 92,
   "id": "09e29721",
   "metadata": {},
   "outputs": [
    {
     "data": {
      "text/plain": [
       "array(['Meg 2: The Trench', \"The Pope's Exorcist\",\n",
       "       'Transformers: Rise of the Beasts', ..., 'Lady Vengeance',\n",
       "       'Liar Liar', 'My Policeman'], dtype=object)"
      ]
     },
     "execution_count": 92,
     "metadata": {},
     "output_type": "execute_result"
    }
   ],
   "source": [
    "movies_dataset['title'].values"
   ]
  },
  {
   "cell_type": "code",
   "execution_count": 93,
   "id": "2db90026",
   "metadata": {},
   "outputs": [],
   "source": [
    "movies_dataset.to_dict()"
   ]
  },
  {
   "cell_type": "markdown",
   "id": "bc2775aa",
   "metadata": {},
   "source": [
    "#### Opening the Picled file"
   ]
  },
  {
   "cell_type": "code",
   "execution_count": 94,
   "id": "defd2a1f",
   "metadata": {},
   "outputs": [
    {
     "data": {
      "text/html": [
       "<div>\n",
       "<style scoped>\n",
       "    .dataframe tbody tr th:only-of-type {\n",
       "        vertical-align: middle;\n",
       "    }\n",
       "\n",
       "    .dataframe tbody tr th {\n",
       "        vertical-align: top;\n",
       "    }\n",
       "\n",
       "    .dataframe thead th {\n",
       "        text-align: right;\n",
       "    }\n",
       "</style>\n",
       "<table border=\"1\" class=\"dataframe\">\n",
       "  <thead>\n",
       "    <tr style=\"text-align: right;\">\n",
       "      <th></th>\n",
       "      <th>movieid</th>\n",
       "      <th>title</th>\n",
       "      <th>metadata</th>\n",
       "    </tr>\n",
       "  </thead>\n",
       "  <tbody>\n",
       "    <tr>\n",
       "      <th>0</th>\n",
       "      <td>615656</td>\n",
       "      <td>Meg 2: The Trench</td>\n",
       "      <td>Action Science Fiction Horror An exploratory d...</td>\n",
       "    </tr>\n",
       "    <tr>\n",
       "      <th>1</th>\n",
       "      <td>758323</td>\n",
       "      <td>The Pope's Exorcist</td>\n",
       "      <td>Horror Mystery Thriller Father Gabriele Amorth...</td>\n",
       "    </tr>\n",
       "    <tr>\n",
       "      <th>2</th>\n",
       "      <td>667538</td>\n",
       "      <td>Transformers: Rise of the Beasts</td>\n",
       "      <td>Action Adventure Science Fiction When a new th...</td>\n",
       "    </tr>\n",
       "    <tr>\n",
       "      <th>3</th>\n",
       "      <td>640146</td>\n",
       "      <td>Ant-Man and the Wasp: Quantumania</td>\n",
       "      <td>Action Adventure Science Fiction Super-Hero pa...</td>\n",
       "    </tr>\n",
       "    <tr>\n",
       "      <th>4</th>\n",
       "      <td>677179</td>\n",
       "      <td>Creed III</td>\n",
       "      <td>Drama Action After dominating the boxing world...</td>\n",
       "    </tr>\n",
       "    <tr>\n",
       "      <th>...</th>\n",
       "      <td>...</td>\n",
       "      <td>...</td>\n",
       "      <td>...</td>\n",
       "    </tr>\n",
       "    <tr>\n",
       "      <th>1995</th>\n",
       "      <td>87502</td>\n",
       "      <td>Flight</td>\n",
       "      <td>Drama Commercial airline pilot Whip Whitaker h...</td>\n",
       "    </tr>\n",
       "    <tr>\n",
       "      <th>1996</th>\n",
       "      <td>13387</td>\n",
       "      <td>Transporter 3</td>\n",
       "      <td>Action Thriller Crime Frank Martin puts the dr...</td>\n",
       "    </tr>\n",
       "    <tr>\n",
       "      <th>1997</th>\n",
       "      <td>4550</td>\n",
       "      <td>Lady Vengeance</td>\n",
       "      <td>Drama Thriller Released after being wrongfully...</td>\n",
       "    </tr>\n",
       "    <tr>\n",
       "      <th>1998</th>\n",
       "      <td>1624</td>\n",
       "      <td>Liar Liar</td>\n",
       "      <td>Comedy Fletcher Reede is a fast-talking attorn...</td>\n",
       "    </tr>\n",
       "    <tr>\n",
       "      <th>1999</th>\n",
       "      <td>744114</td>\n",
       "      <td>My Policeman</td>\n",
       "      <td>Drama Romance In the late s the arrival of eld...</td>\n",
       "    </tr>\n",
       "  </tbody>\n",
       "</table>\n",
       "<p>1997 rows × 3 columns</p>\n",
       "</div>"
      ],
      "text/plain": [
       "      movieid                              title  \\\n",
       "0      615656                  Meg 2: The Trench   \n",
       "1      758323                The Pope's Exorcist   \n",
       "2      667538   Transformers: Rise of the Beasts   \n",
       "3      640146  Ant-Man and the Wasp: Quantumania   \n",
       "4      677179                          Creed III   \n",
       "...       ...                                ...   \n",
       "1995    87502                             Flight   \n",
       "1996    13387                      Transporter 3   \n",
       "1997     4550                     Lady Vengeance   \n",
       "1998     1624                          Liar Liar   \n",
       "1999   744114                       My Policeman   \n",
       "\n",
       "                                               metadata  \n",
       "0     Action Science Fiction Horror An exploratory d...  \n",
       "1     Horror Mystery Thriller Father Gabriele Amorth...  \n",
       "2     Action Adventure Science Fiction When a new th...  \n",
       "3     Action Adventure Science Fiction Super-Hero pa...  \n",
       "4     Drama Action After dominating the boxing world...  \n",
       "...                                                 ...  \n",
       "1995  Drama Commercial airline pilot Whip Whitaker h...  \n",
       "1996  Action Thriller Crime Frank Martin puts the dr...  \n",
       "1997  Drama Thriller Released after being wrongfully...  \n",
       "1998  Comedy Fletcher Reede is a fast-talking attorn...  \n",
       "1999  Drama Romance In the late s the arrival of eld...  \n",
       "\n",
       "[1997 rows x 3 columns]"
      ]
     },
     "execution_count": 94,
     "metadata": {},
     "output_type": "execute_result"
    }
   ],
   "source": [
    "pickle.load(open('movies_dataset.pkl', 'rb'))"
   ]
  },
  {
   "cell_type": "markdown",
   "id": "4a02eafa",
   "metadata": {},
   "source": [
    "### Opening the pickled dictionary dataset file"
   ]
  },
  {
   "cell_type": "code",
   "execution_count": 95,
   "id": "963ba5dd",
   "metadata": {},
   "outputs": [],
   "source": [
    "# saving the the movie dataset as dictionary \n",
    "pickle.load(open('movies_dataset_dict.pkl', 'rb'))"
   ]
  },
  {
   "cell_type": "code",
   "execution_count": 96,
   "id": "e2127736",
   "metadata": {},
   "outputs": [
    {
     "data": {
      "text/html": [
       "<div>\n",
       "<style scoped>\n",
       "    .dataframe tbody tr th:only-of-type {\n",
       "        vertical-align: middle;\n",
       "    }\n",
       "\n",
       "    .dataframe tbody tr th {\n",
       "        vertical-align: top;\n",
       "    }\n",
       "\n",
       "    .dataframe thead th {\n",
       "        text-align: right;\n",
       "    }\n",
       "</style>\n",
       "<table border=\"1\" class=\"dataframe\">\n",
       "  <thead>\n",
       "    <tr style=\"text-align: right;\">\n",
       "      <th></th>\n",
       "      <th>movieid</th>\n",
       "      <th>title</th>\n",
       "      <th>metadata</th>\n",
       "    </tr>\n",
       "  </thead>\n",
       "  <tbody>\n",
       "    <tr>\n",
       "      <th>0</th>\n",
       "      <td>615656</td>\n",
       "      <td>Meg 2: The Trench</td>\n",
       "      <td>Action Science Fiction Horror An exploratory d...</td>\n",
       "    </tr>\n",
       "    <tr>\n",
       "      <th>1</th>\n",
       "      <td>758323</td>\n",
       "      <td>The Pope's Exorcist</td>\n",
       "      <td>Horror Mystery Thriller Father Gabriele Amorth...</td>\n",
       "    </tr>\n",
       "    <tr>\n",
       "      <th>2</th>\n",
       "      <td>667538</td>\n",
       "      <td>Transformers: Rise of the Beasts</td>\n",
       "      <td>Action Adventure Science Fiction When a new th...</td>\n",
       "    </tr>\n",
       "    <tr>\n",
       "      <th>3</th>\n",
       "      <td>640146</td>\n",
       "      <td>Ant-Man and the Wasp: Quantumania</td>\n",
       "      <td>Action Adventure Science Fiction Super-Hero pa...</td>\n",
       "    </tr>\n",
       "    <tr>\n",
       "      <th>4</th>\n",
       "      <td>677179</td>\n",
       "      <td>Creed III</td>\n",
       "      <td>Drama Action After dominating the boxing world...</td>\n",
       "    </tr>\n",
       "  </tbody>\n",
       "</table>\n",
       "</div>"
      ],
      "text/plain": [
       "   movieid                              title  \\\n",
       "0   615656                  Meg 2: The Trench   \n",
       "1   758323                The Pope's Exorcist   \n",
       "2   667538   Transformers: Rise of the Beasts   \n",
       "3   640146  Ant-Man and the Wasp: Quantumania   \n",
       "4   677179                          Creed III   \n",
       "\n",
       "                                            metadata  \n",
       "0  Action Science Fiction Horror An exploratory d...  \n",
       "1  Horror Mystery Thriller Father Gabriele Amorth...  \n",
       "2  Action Adventure Science Fiction When a new th...  \n",
       "3  Action Adventure Science Fiction Super-Hero pa...  \n",
       "4  Drama Action After dominating the boxing world...  "
      ]
     },
     "execution_count": 96,
     "metadata": {},
     "output_type": "execute_result"
    }
   ],
   "source": [
    "movie_open = pickle.load(open('movies_dataset_dict.pkl', 'rb'))\n",
    "movie_pd = pd.DataFrame(movie_open)\n",
    "movie_pd.head()"
   ]
  },
  {
   "cell_type": "code",
   "execution_count": 97,
   "id": "0bfef3b7",
   "metadata": {},
   "outputs": [],
   "source": [
    "# ### Pickling the Model  \n",
    "\n",
    "# # import pickle\n",
    "# pickle.dump(new_df, open('movies_df.pkl', 'wb'))\n",
    "# pickle.dump(similarity, open('similarity.pkl', 'wb'))\n",
    "\n",
    "# new_df['title'].values\n",
    "\n",
    "# new_df.to_dict()\n",
    "\n",
    "# pickle.dump(new_df.to_dict(), open('movies_dict.pkl', 'wb'))"
   ]
  },
  {
   "cell_type": "code",
   "execution_count": 98,
   "id": "dc745401",
   "metadata": {},
   "outputs": [],
   "source": [
    "# main = df.index[~df.index.isin(df1.index)]\n",
    "# main"
   ]
  },
  {
   "cell_type": "code",
   "execution_count": 99,
   "id": "8dc057bf",
   "metadata": {},
   "outputs": [],
   "source": [
    "# import pandas as pd\n",
    "\n",
    "# # Read the CSV file into a DataFrame\n",
    "# movie_db = pd.read_csv('movies.csv')\n",
    "\n",
    "# # Filter movies based on conditions\n",
    "# latest = movie_db[(movie_db['vote_average'] > 5) & (movie_db['vote_count'] > 100)]\n",
    "\n",
    "# # Save the filtered DataFrame to a new CSV file\n",
    "# latest.to_csv('movies_df.csv', index=False)\n",
    "\n",
    "# # Read the saved CSV file into a new DataFrame\n",
    "# movies = pd.read_csv('movies_df.csv')\n",
    "\n",
    "# # Display the first few rows of the new DataFrame\n",
    "# print(movies.shape)\n",
    "# movies.head()\n"
   ]
  },
  {
   "cell_type": "code",
   "execution_count": null,
   "id": "e1ddfde8",
   "metadata": {},
   "outputs": [],
   "source": []
  }
 ],
 "metadata": {
  "kernelspec": {
   "display_name": "Python 3 (ipykernel)",
   "language": "python",
   "name": "python3"
  },
  "language_info": {
   "codemirror_mode": {
    "name": "ipython",
    "version": 3
   },
   "file_extension": ".py",
   "mimetype": "text/x-python",
   "name": "python",
   "nbconvert_exporter": "python",
   "pygments_lexer": "ipython3",
   "version": "3.9.18"
  }
 },
 "nbformat": 4,
 "nbformat_minor": 5
}
